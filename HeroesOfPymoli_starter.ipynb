{
 "cells": [
  {
   "cell_type": "markdown",
   "metadata": {},
   "source": [
    "### Note\n",
    "* Instructions have been included for each segment. You do not have to follow them exactly, but they are included to help you think through the steps."
   ]
  },
  {
   "cell_type": "code",
   "execution_count": 1,
   "metadata": {},
   "outputs": [],
   "source": [
    "#Dependencies and Setup\n",
    "import pandas as pd\n",
    "\n",
    "# File to Load (Remember to Change These)\n",
    "csv_path = \"Resources/purchase_data.csv\"\n",
    "\n",
    "#Read Purchasing File and store into Pandas data frame\n",
    "purchase_data = pd.read_csv(csv_path)"
   ]
  },
  {
   "cell_type": "markdown",
   "metadata": {},
   "source": [
    "## Player Count"
   ]
  },
  {
   "cell_type": "markdown",
   "metadata": {},
   "source": [
    "* Display the total number of players\n"
   ]
  },
  {
   "cell_type": "code",
   "execution_count": 2,
   "metadata": {},
   "outputs": [
    {
     "data": {
      "text/html": [
       "<div>\n",
       "<style scoped>\n",
       "    .dataframe tbody tr th:only-of-type {\n",
       "        vertical-align: middle;\n",
       "    }\n",
       "\n",
       "    .dataframe tbody tr th {\n",
       "        vertical-align: top;\n",
       "    }\n",
       "\n",
       "    .dataframe thead th {\n",
       "        text-align: right;\n",
       "    }\n",
       "</style>\n",
       "<table border=\"1\" class=\"dataframe\">\n",
       "  <thead>\n",
       "    <tr style=\"text-align: right;\">\n",
       "      <th></th>\n",
       "      <th>Total Players</th>\n",
       "    </tr>\n",
       "  </thead>\n",
       "  <tbody>\n",
       "    <tr>\n",
       "      <th>0</th>\n",
       "      <td>576</td>\n",
       "    </tr>\n",
       "  </tbody>\n",
       "</table>\n",
       "</div>"
      ],
      "text/plain": [
       "   Total Players\n",
       "0            576"
      ]
     },
     "execution_count": 2,
     "metadata": {},
     "output_type": "execute_result"
    }
   ],
   "source": [
    "#Finding Player Count and setting up loc for future use\n",
    "player_info = purchase_data.loc[:,[\"Gender\", \"SN\", \"Age\"]]\n",
    "#Remember we dont want duplicate SN\n",
    "player_info = player_info.drop_duplicates()\n",
    "player_count = player_info.count()[0]\n",
    "\n",
    "\n",
    "#Create the data frame to show total players\n",
    "pd.DataFrame({\"Total Players\":[player_count]})"
   ]
  },
  {
   "cell_type": "markdown",
   "metadata": {},
   "source": [
    "## Purchasing Analysis (Total)"
   ]
  },
  {
   "cell_type": "markdown",
   "metadata": {},
   "source": [
    "* Run basic calculations to obtain number of unique items, average price, etc.\n",
    "\n",
    "\n",
    "* Create a summary data frame to hold the results\n",
    "\n",
    "\n",
    "* Optional: give the displayed data cleaner formatting\n",
    "\n",
    "\n",
    "* Display the summary data frame\n"
   ]
  },
  {
   "cell_type": "code",
   "execution_count": 3,
   "metadata": {
    "scrolled": true
   },
   "outputs": [
    {
     "data": {
      "text/html": [
       "<style  type=\"text/css\" >\n",
       "</style><table id=\"T_d3aee6a7_9cdc_11eb_a50b_001583fc5fc3\" ><thead>    <tr>        <th class=\"blank level0\" ></th>        <th class=\"col_heading level0 col0\" >Number of Unique Items</th>        <th class=\"col_heading level0 col1\" >Average Purchase Price</th>        <th class=\"col_heading level0 col2\" >Number of Purchases</th>        <th class=\"col_heading level0 col3\" >Total Revenue</th>    </tr></thead><tbody>\n",
       "                <tr>\n",
       "                        <th id=\"T_d3aee6a7_9cdc_11eb_a50b_001583fc5fc3level0_row0\" class=\"row_heading level0 row0\" >0</th>\n",
       "                        <td id=\"T_d3aee6a7_9cdc_11eb_a50b_001583fc5fc3row0_col0\" class=\"data row0 col0\" >179</td>\n",
       "                        <td id=\"T_d3aee6a7_9cdc_11eb_a50b_001583fc5fc3row0_col1\" class=\"data row0 col1\" >$3.05</td>\n",
       "                        <td id=\"T_d3aee6a7_9cdc_11eb_a50b_001583fc5fc3row0_col2\" class=\"data row0 col2\" >780</td>\n",
       "                        <td id=\"T_d3aee6a7_9cdc_11eb_a50b_001583fc5fc3row0_col3\" class=\"data row0 col3\" >$2,379.77</td>\n",
       "            </tr>\n",
       "    </tbody></table>"
      ],
      "text/plain": [
       "<pandas.io.formats.style.Styler at 0x22c6fdd2880>"
      ]
     },
     "execution_count": 3,
     "metadata": {},
     "output_type": "execute_result"
    }
   ],
   "source": [
    "# Finding calculations for number of unique items, average purchase price, total number of purchases, and total revenue.\n",
    "number_of_unique_items = len((purchase_data[\"Item ID\"]).unique())\n",
    "average_purchase_price = (purchase_data[\"Price\"]).mean()\n",
    "number_of_purchases = (purchase_data[\"Purchase ID\"]).count()\n",
    "total_revenue = (purchase_data[\"Price\"]).sum()\n",
    "\n",
    "#Creating the data frame\n",
    "purchasing_analysis_df = pd.DataFrame ({\"Number of Unique Items\":[number_of_unique_items],\n",
    "                                        \"Average Purchase Price\":[average_purchase_price],\n",
    "                                        \"Number of Purchases\":[number_of_purchases],\n",
    "                                        \"Total Revenue\":[total_revenue]})\n",
    "\n",
    "#Formatting\n",
    "purchasing_analysis_df.style.format({'Average Purchase Price':\"${:,.2f}\",\n",
    "                                     'Total Revenue':\"${:,.2f}\"})"
   ]
  },
  {
   "cell_type": "markdown",
   "metadata": {},
   "source": [
    "## Gender Demographics"
   ]
  },
  {
   "cell_type": "markdown",
   "metadata": {},
   "source": [
    "* Percentage and Count of Male Players\n",
    "\n",
    "\n",
    "* Percentage and Count of Female Players\n",
    "\n",
    "\n",
    "* Percentage and Count of Other / Non-Disclosed\n",
    "\n",
    "\n"
   ]
  },
  {
   "cell_type": "code",
   "execution_count": 4,
   "metadata": {},
   "outputs": [
    {
     "data": {
      "text/html": [
       "<style  type=\"text/css\" >\n",
       "</style><table id=\"T_d41cc92a_9cdc_11eb_8eb1_001583fc5fc3\" ><thead>    <tr>        <th class=\"blank level0\" ></th>        <th class=\"col_heading level0 col0\" >Total Count</th>        <th class=\"col_heading level0 col1\" >Percentage of Players</th>    </tr></thead><tbody>\n",
       "                <tr>\n",
       "                        <th id=\"T_d41cc92a_9cdc_11eb_8eb1_001583fc5fc3level0_row0\" class=\"row_heading level0 row0\" >Male</th>\n",
       "                        <td id=\"T_d41cc92a_9cdc_11eb_8eb1_001583fc5fc3row0_col0\" class=\"data row0 col0\" >484</td>\n",
       "                        <td id=\"T_d41cc92a_9cdc_11eb_8eb1_001583fc5fc3row0_col1\" class=\"data row0 col1\" >84.03</td>\n",
       "            </tr>\n",
       "            <tr>\n",
       "                        <th id=\"T_d41cc92a_9cdc_11eb_8eb1_001583fc5fc3level0_row1\" class=\"row_heading level0 row1\" >Female</th>\n",
       "                        <td id=\"T_d41cc92a_9cdc_11eb_8eb1_001583fc5fc3row1_col0\" class=\"data row1 col0\" >81</td>\n",
       "                        <td id=\"T_d41cc92a_9cdc_11eb_8eb1_001583fc5fc3row1_col1\" class=\"data row1 col1\" >14.06</td>\n",
       "            </tr>\n",
       "            <tr>\n",
       "                        <th id=\"T_d41cc92a_9cdc_11eb_8eb1_001583fc5fc3level0_row2\" class=\"row_heading level0 row2\" >Other / Non-Disclosed</th>\n",
       "                        <td id=\"T_d41cc92a_9cdc_11eb_8eb1_001583fc5fc3row2_col0\" class=\"data row2 col0\" >11</td>\n",
       "                        <td id=\"T_d41cc92a_9cdc_11eb_8eb1_001583fc5fc3row2_col1\" class=\"data row2 col1\" >1.91</td>\n",
       "            </tr>\n",
       "    </tbody></table>"
      ],
      "text/plain": [
       "<pandas.io.formats.style.Styler at 0x22c6ecd9640>"
      ]
     },
     "execution_count": 4,
     "metadata": {},
     "output_type": "execute_result"
    }
   ],
   "source": [
    "#Finding gender count and percentage\n",
    "gender_count = player_info[\"Gender\"].value_counts()\n",
    "gender_percent = gender_count/player_count*100\n",
    "\n",
    "#Create Data Frame\n",
    "gender_demo_df = pd.DataFrame({\"Total Count\": gender_count,\n",
    "                               \"Percentage of Players\": gender_percent})\n",
    "\n",
    "#Formatting\n",
    "gender_demo_df.style.format({\"Percentage of Players\":\"{:.2f}\"})"
   ]
  },
  {
   "cell_type": "markdown",
   "metadata": {},
   "source": [
    "\n",
    "## Purchasing Analysis (Gender)"
   ]
  },
  {
   "cell_type": "markdown",
   "metadata": {},
   "source": [
    "* Run basic calculations to obtain purchase count, avg. purchase price, avg. purchase total per person etc. by gender\n",
    "\n",
    "\n",
    "\n",
    "\n",
    "* Create a summary data frame to hold the results\n",
    "\n",
    "\n",
    "* Optional: give the displayed data cleaner formatting\n",
    "\n",
    "\n",
    "* Display the summary data frame"
   ]
  },
  {
   "cell_type": "code",
   "execution_count": 5,
   "metadata": {},
   "outputs": [
    {
     "data": {
      "text/html": [
       "<style  type=\"text/css\" >\n",
       "</style><table id=\"T_d46808b4_9cdc_11eb_b4dc_001583fc5fc3\" ><thead>    <tr>        <th class=\"blank level0\" ></th>        <th class=\"col_heading level0 col0\" >Purchase Count</th>        <th class=\"col_heading level0 col1\" >Average Purchase Price</th>        <th class=\"col_heading level0 col2\" >Total Purchase Value</th>        <th class=\"col_heading level0 col3\" >Avg Total Purchase per Person</th>    </tr>    <tr>        <th class=\"index_name level0\" >Gender</th>        <th class=\"blank\" ></th>        <th class=\"blank\" ></th>        <th class=\"blank\" ></th>        <th class=\"blank\" ></th>    </tr></thead><tbody>\n",
       "                <tr>\n",
       "                        <th id=\"T_d46808b4_9cdc_11eb_b4dc_001583fc5fc3level0_row0\" class=\"row_heading level0 row0\" >Female</th>\n",
       "                        <td id=\"T_d46808b4_9cdc_11eb_b4dc_001583fc5fc3row0_col0\" class=\"data row0 col0\" >113</td>\n",
       "                        <td id=\"T_d46808b4_9cdc_11eb_b4dc_001583fc5fc3row0_col1\" class=\"data row0 col1\" >$3.20</td>\n",
       "                        <td id=\"T_d46808b4_9cdc_11eb_b4dc_001583fc5fc3row0_col2\" class=\"data row0 col2\" >$361.94</td>\n",
       "                        <td id=\"T_d46808b4_9cdc_11eb_b4dc_001583fc5fc3row0_col3\" class=\"data row0 col3\" >$4.47</td>\n",
       "            </tr>\n",
       "            <tr>\n",
       "                        <th id=\"T_d46808b4_9cdc_11eb_b4dc_001583fc5fc3level0_row1\" class=\"row_heading level0 row1\" >Male</th>\n",
       "                        <td id=\"T_d46808b4_9cdc_11eb_b4dc_001583fc5fc3row1_col0\" class=\"data row1 col0\" >652</td>\n",
       "                        <td id=\"T_d46808b4_9cdc_11eb_b4dc_001583fc5fc3row1_col1\" class=\"data row1 col1\" >$3.02</td>\n",
       "                        <td id=\"T_d46808b4_9cdc_11eb_b4dc_001583fc5fc3row1_col2\" class=\"data row1 col2\" >$1,967.64</td>\n",
       "                        <td id=\"T_d46808b4_9cdc_11eb_b4dc_001583fc5fc3row1_col3\" class=\"data row1 col3\" >$4.07</td>\n",
       "            </tr>\n",
       "            <tr>\n",
       "                        <th id=\"T_d46808b4_9cdc_11eb_b4dc_001583fc5fc3level0_row2\" class=\"row_heading level0 row2\" >Other / Non-Disclosed</th>\n",
       "                        <td id=\"T_d46808b4_9cdc_11eb_b4dc_001583fc5fc3row2_col0\" class=\"data row2 col0\" >15</td>\n",
       "                        <td id=\"T_d46808b4_9cdc_11eb_b4dc_001583fc5fc3row2_col1\" class=\"data row2 col1\" >$3.35</td>\n",
       "                        <td id=\"T_d46808b4_9cdc_11eb_b4dc_001583fc5fc3row2_col2\" class=\"data row2 col2\" >$50.19</td>\n",
       "                        <td id=\"T_d46808b4_9cdc_11eb_b4dc_001583fc5fc3row2_col3\" class=\"data row2 col3\" >$4.56</td>\n",
       "            </tr>\n",
       "    </tbody></table>"
      ],
      "text/plain": [
       "<pandas.io.formats.style.Styler at 0x22c722fda60>"
      ]
     },
     "execution_count": 5,
     "metadata": {},
     "output_type": "execute_result"
    }
   ],
   "source": [
    "#Finding Purchase Count, Average Purchase Price, Total Purchase Value, Average Purchase Total per Person by Gender\n",
    "#Sort Data by Gender\n",
    "gender_analysis = purchase_data.groupby(\"Gender\")\n",
    "\n",
    "purchase_count_gender = gender_analysis[\"Purchase ID\"].count()\n",
    "average_purchase_price_gender = gender_analysis[\"Price\"].mean()\n",
    "total_purchase_value_gender = gender_analysis[\"Price\"].sum()\n",
    "average_purchase_total_gender = total_purchase_value_gender / gender_count\n",
    "\n",
    "#Create Data Frame\n",
    "gender_purchase_analysis_df = pd.DataFrame({\"Purchase Count\": purchase_count_gender,\n",
    "                                            \"Average Purchase Price\":average_purchase_price_gender,\n",
    "                                            \"Total Purchase Value\":total_purchase_value_gender,\n",
    "                                            \"Avg Total Purchase per Person\":average_purchase_total_gender})\n",
    "#Formatting\n",
    "gender_purchase_analysis_df.style.format({\"Average Purchase Price\":\"${:,.2f}\",\n",
    "                                          \"Total Purchase Value\":\"${:,.2f}\",\n",
    "                                          \"Avg Total Purchase per Person\":\"${:,.2f}\"})"
   ]
  },
  {
   "cell_type": "markdown",
   "metadata": {},
   "source": [
    "## Age Demographics"
   ]
  },
  {
   "cell_type": "markdown",
   "metadata": {},
   "source": [
    "* Establish bins for ages\n",
    "\n",
    "\n",
    "* Categorize the existing players using the age bins. Hint: use pd.cut()\n",
    "\n",
    "\n",
    "* Calculate the numbers and percentages by age group\n",
    "\n",
    "\n",
    "* Create a summary data frame to hold the results\n",
    "\n",
    "\n",
    "* Optional: round the percentage column to two decimal points\n",
    "\n",
    "\n",
    "* Display Age Demographics Table\n"
   ]
  },
  {
   "cell_type": "code",
   "execution_count": 23,
   "metadata": {},
   "outputs": [
    {
     "data": {
      "text/html": [
       "<style  type=\"text/css\" >\n",
       "</style><table id=\"T_9f6e7bc2_9cde_11eb_b5eb_001583fc5fc3\" ><thead>    <tr>        <th class=\"blank level0\" ></th>        <th class=\"col_heading level0 col0\" >Total Count</th>        <th class=\"col_heading level0 col1\" >Percentage of Players</th>    </tr></thead><tbody>\n",
       "                <tr>\n",
       "                        <th id=\"T_9f6e7bc2_9cde_11eb_b5eb_001583fc5fc3level0_row0\" class=\"row_heading level0 row0\" ><10</th>\n",
       "                        <td id=\"T_9f6e7bc2_9cde_11eb_b5eb_001583fc5fc3row0_col0\" class=\"data row0 col0\" >17</td>\n",
       "                        <td id=\"T_9f6e7bc2_9cde_11eb_b5eb_001583fc5fc3row0_col1\" class=\"data row0 col1\" >2.95%</td>\n",
       "            </tr>\n",
       "            <tr>\n",
       "                        <th id=\"T_9f6e7bc2_9cde_11eb_b5eb_001583fc5fc3level0_row1\" class=\"row_heading level0 row1\" >10-14</th>\n",
       "                        <td id=\"T_9f6e7bc2_9cde_11eb_b5eb_001583fc5fc3row1_col0\" class=\"data row1 col0\" >22</td>\n",
       "                        <td id=\"T_9f6e7bc2_9cde_11eb_b5eb_001583fc5fc3row1_col1\" class=\"data row1 col1\" >3.82%</td>\n",
       "            </tr>\n",
       "            <tr>\n",
       "                        <th id=\"T_9f6e7bc2_9cde_11eb_b5eb_001583fc5fc3level0_row2\" class=\"row_heading level0 row2\" >15-19</th>\n",
       "                        <td id=\"T_9f6e7bc2_9cde_11eb_b5eb_001583fc5fc3row2_col0\" class=\"data row2 col0\" >107</td>\n",
       "                        <td id=\"T_9f6e7bc2_9cde_11eb_b5eb_001583fc5fc3row2_col1\" class=\"data row2 col1\" >18.58%</td>\n",
       "            </tr>\n",
       "            <tr>\n",
       "                        <th id=\"T_9f6e7bc2_9cde_11eb_b5eb_001583fc5fc3level0_row3\" class=\"row_heading level0 row3\" >20-24</th>\n",
       "                        <td id=\"T_9f6e7bc2_9cde_11eb_b5eb_001583fc5fc3row3_col0\" class=\"data row3 col0\" >258</td>\n",
       "                        <td id=\"T_9f6e7bc2_9cde_11eb_b5eb_001583fc5fc3row3_col1\" class=\"data row3 col1\" >44.79%</td>\n",
       "            </tr>\n",
       "            <tr>\n",
       "                        <th id=\"T_9f6e7bc2_9cde_11eb_b5eb_001583fc5fc3level0_row4\" class=\"row_heading level0 row4\" >25-29</th>\n",
       "                        <td id=\"T_9f6e7bc2_9cde_11eb_b5eb_001583fc5fc3row4_col0\" class=\"data row4 col0\" >77</td>\n",
       "                        <td id=\"T_9f6e7bc2_9cde_11eb_b5eb_001583fc5fc3row4_col1\" class=\"data row4 col1\" >13.37%</td>\n",
       "            </tr>\n",
       "            <tr>\n",
       "                        <th id=\"T_9f6e7bc2_9cde_11eb_b5eb_001583fc5fc3level0_row5\" class=\"row_heading level0 row5\" >30-34</th>\n",
       "                        <td id=\"T_9f6e7bc2_9cde_11eb_b5eb_001583fc5fc3row5_col0\" class=\"data row5 col0\" >52</td>\n",
       "                        <td id=\"T_9f6e7bc2_9cde_11eb_b5eb_001583fc5fc3row5_col1\" class=\"data row5 col1\" >9.03%</td>\n",
       "            </tr>\n",
       "            <tr>\n",
       "                        <th id=\"T_9f6e7bc2_9cde_11eb_b5eb_001583fc5fc3level0_row6\" class=\"row_heading level0 row6\" >35-39</th>\n",
       "                        <td id=\"T_9f6e7bc2_9cde_11eb_b5eb_001583fc5fc3row6_col0\" class=\"data row6 col0\" >31</td>\n",
       "                        <td id=\"T_9f6e7bc2_9cde_11eb_b5eb_001583fc5fc3row6_col1\" class=\"data row6 col1\" >5.38%</td>\n",
       "            </tr>\n",
       "            <tr>\n",
       "                        <th id=\"T_9f6e7bc2_9cde_11eb_b5eb_001583fc5fc3level0_row7\" class=\"row_heading level0 row7\" >40+</th>\n",
       "                        <td id=\"T_9f6e7bc2_9cde_11eb_b5eb_001583fc5fc3row7_col0\" class=\"data row7 col0\" >12</td>\n",
       "                        <td id=\"T_9f6e7bc2_9cde_11eb_b5eb_001583fc5fc3row7_col1\" class=\"data row7 col1\" >2.08%</td>\n",
       "            </tr>\n",
       "    </tbody></table>"
      ],
      "text/plain": [
       "<pandas.io.formats.style.Styler at 0x22c6fdcc070>"
      ]
     },
     "execution_count": 23,
     "metadata": {},
     "output_type": "execute_result"
    }
   ],
   "source": [
    "#Create Bins and Change the Labels\n",
    "age_bins = [0, 9.90, 14.90, 19.90, 24.90, 29.90, 34.90, 39.90, 99999]\n",
    "bin_labels = [\"<10\", \"10-14\", \"15-19\", \"20-24\", \"25-29\", \"30-34\", \"35-39\", \"40+\"]\n",
    "\n",
    "player_info[\"Age Groups\"] = pd.cut(player_info[\"Age\"], age_bins, labels = bin_labels)\n",
    "age_demo = player_info[\"Age Groups\"].value_counts()\n",
    "age_demo_percent = age_demo/player_count*100\n",
    "\n",
    "#Create Data Frame\n",
    "age_demo_df = pd.DataFrame({\"Total Count\": age_demo,\n",
    "                            \"Percentage of Players\": age_demo_percent})\n",
    "\n",
    "#Formatting\n",
    "age_demo_df = age_demo_df.sort_index()\n",
    "age_demo_df.style.format({\"Percentage of Players\":\"{:,.2f}%\"})"
   ]
  },
  {
   "cell_type": "markdown",
   "metadata": {},
   "source": [
    "## Purchasing Analysis (Age)"
   ]
  },
  {
   "cell_type": "markdown",
   "metadata": {},
   "source": [
    "* Bin the purchase_data data frame by age\n",
    "\n",
    "\n",
    "* Run basic calculations to obtain purchase count, avg. purchase price, avg. purchase total per person etc. in the table below\n",
    "\n",
    "\n",
    "* Create a summary data frame to hold the results\n",
    "\n",
    "\n",
    "* Optional: give the displayed data cleaner formatting\n",
    "\n",
    "\n",
    "* Display the summary data frame"
   ]
  },
  {
   "cell_type": "code",
   "execution_count": 15,
   "metadata": {},
   "outputs": [
    {
     "data": {
      "text/html": [
       "<style  type=\"text/css\" >\n",
       "</style><table id=\"T_e932189c_9cdd_11eb_8daf_001583fc5fc3\" ><thead>    <tr>        <th class=\"blank level0\" ></th>        <th class=\"col_heading level0 col0\" >Purchase Count</th>        <th class=\"col_heading level0 col1\" >Average Purchase Price</th>        <th class=\"col_heading level0 col2\" >Total Purchase Value</th>        <th class=\"col_heading level0 col3\" >Avg Total Purchase per Person</th>    </tr></thead><tbody>\n",
       "                <tr>\n",
       "                        <th id=\"T_e932189c_9cdd_11eb_8daf_001583fc5fc3level0_row0\" class=\"row_heading level0 row0\" ><10</th>\n",
       "                        <td id=\"T_e932189c_9cdd_11eb_8daf_001583fc5fc3row0_col0\" class=\"data row0 col0\" >23</td>\n",
       "                        <td id=\"T_e932189c_9cdd_11eb_8daf_001583fc5fc3row0_col1\" class=\"data row0 col1\" >$3.35</td>\n",
       "                        <td id=\"T_e932189c_9cdd_11eb_8daf_001583fc5fc3row0_col2\" class=\"data row0 col2\" >$77.13</td>\n",
       "                        <td id=\"T_e932189c_9cdd_11eb_8daf_001583fc5fc3row0_col3\" class=\"data row0 col3\" >$4.54</td>\n",
       "            </tr>\n",
       "            <tr>\n",
       "                        <th id=\"T_e932189c_9cdd_11eb_8daf_001583fc5fc3level0_row1\" class=\"row_heading level0 row1\" >10-14</th>\n",
       "                        <td id=\"T_e932189c_9cdd_11eb_8daf_001583fc5fc3row1_col0\" class=\"data row1 col0\" >28</td>\n",
       "                        <td id=\"T_e932189c_9cdd_11eb_8daf_001583fc5fc3row1_col1\" class=\"data row1 col1\" >$2.96</td>\n",
       "                        <td id=\"T_e932189c_9cdd_11eb_8daf_001583fc5fc3row1_col2\" class=\"data row1 col2\" >$82.78</td>\n",
       "                        <td id=\"T_e932189c_9cdd_11eb_8daf_001583fc5fc3row1_col3\" class=\"data row1 col3\" >$3.76</td>\n",
       "            </tr>\n",
       "            <tr>\n",
       "                        <th id=\"T_e932189c_9cdd_11eb_8daf_001583fc5fc3level0_row2\" class=\"row_heading level0 row2\" >15-19</th>\n",
       "                        <td id=\"T_e932189c_9cdd_11eb_8daf_001583fc5fc3row2_col0\" class=\"data row2 col0\" >136</td>\n",
       "                        <td id=\"T_e932189c_9cdd_11eb_8daf_001583fc5fc3row2_col1\" class=\"data row2 col1\" >$3.04</td>\n",
       "                        <td id=\"T_e932189c_9cdd_11eb_8daf_001583fc5fc3row2_col2\" class=\"data row2 col2\" >$412.89</td>\n",
       "                        <td id=\"T_e932189c_9cdd_11eb_8daf_001583fc5fc3row2_col3\" class=\"data row2 col3\" >$3.86</td>\n",
       "            </tr>\n",
       "            <tr>\n",
       "                        <th id=\"T_e932189c_9cdd_11eb_8daf_001583fc5fc3level0_row3\" class=\"row_heading level0 row3\" >20-24</th>\n",
       "                        <td id=\"T_e932189c_9cdd_11eb_8daf_001583fc5fc3row3_col0\" class=\"data row3 col0\" >365</td>\n",
       "                        <td id=\"T_e932189c_9cdd_11eb_8daf_001583fc5fc3row3_col1\" class=\"data row3 col1\" >$3.05</td>\n",
       "                        <td id=\"T_e932189c_9cdd_11eb_8daf_001583fc5fc3row3_col2\" class=\"data row3 col2\" >$1,114.06</td>\n",
       "                        <td id=\"T_e932189c_9cdd_11eb_8daf_001583fc5fc3row3_col3\" class=\"data row3 col3\" >$4.32</td>\n",
       "            </tr>\n",
       "            <tr>\n",
       "                        <th id=\"T_e932189c_9cdd_11eb_8daf_001583fc5fc3level0_row4\" class=\"row_heading level0 row4\" >25-29</th>\n",
       "                        <td id=\"T_e932189c_9cdd_11eb_8daf_001583fc5fc3row4_col0\" class=\"data row4 col0\" >101</td>\n",
       "                        <td id=\"T_e932189c_9cdd_11eb_8daf_001583fc5fc3row4_col1\" class=\"data row4 col1\" >$2.90</td>\n",
       "                        <td id=\"T_e932189c_9cdd_11eb_8daf_001583fc5fc3row4_col2\" class=\"data row4 col2\" >$293.00</td>\n",
       "                        <td id=\"T_e932189c_9cdd_11eb_8daf_001583fc5fc3row4_col3\" class=\"data row4 col3\" >$3.81</td>\n",
       "            </tr>\n",
       "            <tr>\n",
       "                        <th id=\"T_e932189c_9cdd_11eb_8daf_001583fc5fc3level0_row5\" class=\"row_heading level0 row5\" >30-34</th>\n",
       "                        <td id=\"T_e932189c_9cdd_11eb_8daf_001583fc5fc3row5_col0\" class=\"data row5 col0\" >73</td>\n",
       "                        <td id=\"T_e932189c_9cdd_11eb_8daf_001583fc5fc3row5_col1\" class=\"data row5 col1\" >$2.93</td>\n",
       "                        <td id=\"T_e932189c_9cdd_11eb_8daf_001583fc5fc3row5_col2\" class=\"data row5 col2\" >$214.00</td>\n",
       "                        <td id=\"T_e932189c_9cdd_11eb_8daf_001583fc5fc3row5_col3\" class=\"data row5 col3\" >$4.12</td>\n",
       "            </tr>\n",
       "            <tr>\n",
       "                        <th id=\"T_e932189c_9cdd_11eb_8daf_001583fc5fc3level0_row6\" class=\"row_heading level0 row6\" >35-39</th>\n",
       "                        <td id=\"T_e932189c_9cdd_11eb_8daf_001583fc5fc3row6_col0\" class=\"data row6 col0\" >41</td>\n",
       "                        <td id=\"T_e932189c_9cdd_11eb_8daf_001583fc5fc3row6_col1\" class=\"data row6 col1\" >$3.60</td>\n",
       "                        <td id=\"T_e932189c_9cdd_11eb_8daf_001583fc5fc3row6_col2\" class=\"data row6 col2\" >$147.67</td>\n",
       "                        <td id=\"T_e932189c_9cdd_11eb_8daf_001583fc5fc3row6_col3\" class=\"data row6 col3\" >$4.76</td>\n",
       "            </tr>\n",
       "            <tr>\n",
       "                        <th id=\"T_e932189c_9cdd_11eb_8daf_001583fc5fc3level0_row7\" class=\"row_heading level0 row7\" >40+</th>\n",
       "                        <td id=\"T_e932189c_9cdd_11eb_8daf_001583fc5fc3row7_col0\" class=\"data row7 col0\" >13</td>\n",
       "                        <td id=\"T_e932189c_9cdd_11eb_8daf_001583fc5fc3row7_col1\" class=\"data row7 col1\" >$2.94</td>\n",
       "                        <td id=\"T_e932189c_9cdd_11eb_8daf_001583fc5fc3row7_col2\" class=\"data row7 col2\" >$38.24</td>\n",
       "                        <td id=\"T_e932189c_9cdd_11eb_8daf_001583fc5fc3row7_col3\" class=\"data row7 col3\" >$3.19</td>\n",
       "            </tr>\n",
       "    </tbody></table>"
      ],
      "text/plain": [
       "<pandas.io.formats.style.Styler at 0x22c722fda30>"
      ]
     },
     "execution_count": 15,
     "metadata": {},
     "output_type": "execute_result"
    }
   ],
   "source": [
    "#Finding Purchase Count, Average Purchase Price, Total Purchase Value, Average Purchase Total per person\n",
    "#Sort Data by Age Groups (bins)\n",
    "age_bins = [0, 9.90, 14.90, 19.90, 24.90, 29.90, 34.90, 39.90, 99999]\n",
    "bin_labels = [\"<10\", \"10-14\", \"15-19\", \"20-24\", \"25-29\", \"30-34\", \"35-39\", \"40+\"]\n",
    "\n",
    "#Add \"Age Groups\" into my data\n",
    "purchase_data[\"Age Groups\"] = pd.cut(purchase_data[\"Age\"], age_bins, labels = bin_labels)\n",
    "age_groups = purchase_data.groupby(\"Age Groups\")\n",
    "\n",
    "purchase_count_age = age_groups[\"Purchase ID\"].count()\n",
    "average_purchase_price_age = age_groups[\"Price\"].mean()\n",
    "total_purchase_value_age = age_groups[\"Price\"].sum()\n",
    "average_purchase_total_age = total_purchase_value_age / age_demo\n",
    "\n",
    "#Create Data Frame\n",
    "age_purchase_analysis_df = pd.DataFrame({\"Purchase Count\": purchase_count_age,\n",
    "                                         \"Average Purchase Price\": average_purchase_price_age,\n",
    "                                         \"Total Purchase Value\": total_purchase_value_age,\n",
    "                                         \"Avg Total Purchase per Person\": average_purchase_total_age})\n",
    "\n",
    "#Formatting\n",
    "age_purchase_analysis_df.style.format({\"Average Purchase Price\":\"${:,.2f}\",\n",
    "                                      \"Total Purchase Value\":\"${:,.2f}\",\n",
    "                                      \"Avg Total Purchase per Person\":\"${:,.2f}\"})"
   ]
  },
  {
   "cell_type": "markdown",
   "metadata": {},
   "source": [
    "## Top Spenders"
   ]
  },
  {
   "cell_type": "markdown",
   "metadata": {},
   "source": [
    "* Run basic calculations to obtain the results in the table below\n",
    "\n",
    "\n",
    "* Create a summary data frame to hold the results\n",
    "\n",
    "\n",
    "* Sort the total purchase value column in descending order\n",
    "\n",
    "\n",
    "* Optional: give the displayed data cleaner formatting\n",
    "\n",
    "\n",
    "* Display a preview of the summary data frame\n",
    "\n"
   ]
  },
  {
   "cell_type": "code",
   "execution_count": 16,
   "metadata": {},
   "outputs": [
    {
     "data": {
      "text/html": [
       "<style  type=\"text/css\" >\n",
       "</style><table id=\"T_e9b48011_9cdd_11eb_bee1_001583fc5fc3\" ><thead>    <tr>        <th class=\"blank level0\" ></th>        <th class=\"col_heading level0 col0\" >Purchase Count</th>        <th class=\"col_heading level0 col1\" >Average Purchase Price</th>        <th class=\"col_heading level0 col2\" >Total Purchase Value</th>    </tr>    <tr>        <th class=\"index_name level0\" >SN</th>        <th class=\"blank\" ></th>        <th class=\"blank\" ></th>        <th class=\"blank\" ></th>    </tr></thead><tbody>\n",
       "                <tr>\n",
       "                        <th id=\"T_e9b48011_9cdd_11eb_bee1_001583fc5fc3level0_row0\" class=\"row_heading level0 row0\" >Lisosia93</th>\n",
       "                        <td id=\"T_e9b48011_9cdd_11eb_bee1_001583fc5fc3row0_col0\" class=\"data row0 col0\" >5</td>\n",
       "                        <td id=\"T_e9b48011_9cdd_11eb_bee1_001583fc5fc3row0_col1\" class=\"data row0 col1\" >$3.79</td>\n",
       "                        <td id=\"T_e9b48011_9cdd_11eb_bee1_001583fc5fc3row0_col2\" class=\"data row0 col2\" >$18.96</td>\n",
       "            </tr>\n",
       "            <tr>\n",
       "                        <th id=\"T_e9b48011_9cdd_11eb_bee1_001583fc5fc3level0_row1\" class=\"row_heading level0 row1\" >Idastidru52</th>\n",
       "                        <td id=\"T_e9b48011_9cdd_11eb_bee1_001583fc5fc3row1_col0\" class=\"data row1 col0\" >4</td>\n",
       "                        <td id=\"T_e9b48011_9cdd_11eb_bee1_001583fc5fc3row1_col1\" class=\"data row1 col1\" >$3.86</td>\n",
       "                        <td id=\"T_e9b48011_9cdd_11eb_bee1_001583fc5fc3row1_col2\" class=\"data row1 col2\" >$15.45</td>\n",
       "            </tr>\n",
       "            <tr>\n",
       "                        <th id=\"T_e9b48011_9cdd_11eb_bee1_001583fc5fc3level0_row2\" class=\"row_heading level0 row2\" >Chamjask73</th>\n",
       "                        <td id=\"T_e9b48011_9cdd_11eb_bee1_001583fc5fc3row2_col0\" class=\"data row2 col0\" >3</td>\n",
       "                        <td id=\"T_e9b48011_9cdd_11eb_bee1_001583fc5fc3row2_col1\" class=\"data row2 col1\" >$4.61</td>\n",
       "                        <td id=\"T_e9b48011_9cdd_11eb_bee1_001583fc5fc3row2_col2\" class=\"data row2 col2\" >$13.83</td>\n",
       "            </tr>\n",
       "            <tr>\n",
       "                        <th id=\"T_e9b48011_9cdd_11eb_bee1_001583fc5fc3level0_row3\" class=\"row_heading level0 row3\" >Iral74</th>\n",
       "                        <td id=\"T_e9b48011_9cdd_11eb_bee1_001583fc5fc3row3_col0\" class=\"data row3 col0\" >4</td>\n",
       "                        <td id=\"T_e9b48011_9cdd_11eb_bee1_001583fc5fc3row3_col1\" class=\"data row3 col1\" >$3.40</td>\n",
       "                        <td id=\"T_e9b48011_9cdd_11eb_bee1_001583fc5fc3row3_col2\" class=\"data row3 col2\" >$13.62</td>\n",
       "            </tr>\n",
       "            <tr>\n",
       "                        <th id=\"T_e9b48011_9cdd_11eb_bee1_001583fc5fc3level0_row4\" class=\"row_heading level0 row4\" >Iskadarya95</th>\n",
       "                        <td id=\"T_e9b48011_9cdd_11eb_bee1_001583fc5fc3row4_col0\" class=\"data row4 col0\" >3</td>\n",
       "                        <td id=\"T_e9b48011_9cdd_11eb_bee1_001583fc5fc3row4_col1\" class=\"data row4 col1\" >$4.37</td>\n",
       "                        <td id=\"T_e9b48011_9cdd_11eb_bee1_001583fc5fc3row4_col2\" class=\"data row4 col2\" >$13.10</td>\n",
       "            </tr>\n",
       "    </tbody></table>"
      ],
      "text/plain": [
       "<pandas.io.formats.style.Styler at 0x22c71de6490>"
      ]
     },
     "execution_count": 16,
     "metadata": {},
     "output_type": "execute_result"
    }
   ],
   "source": [
    "#Finding the Top 5 Spenders and finding their Purchase Count, Average Purchase Price, Total Purchase Value\n",
    "#Sort Data by SN\n",
    "spender_info = purchase_data.groupby(\"SN\")\n",
    "\n",
    "purchase_count_spender = spender_info[\"Purchase ID\"].count()\n",
    "average_purchase_price_spender = spender_info[\"Price\"].mean()\n",
    "total_purchase_value_spender = spender_info[\"Price\"].sum()\n",
    "\n",
    "#Create Data Frame\n",
    "top_spenders_df = pd.DataFrame({\"Purchase Count\": purchase_count_spender,\n",
    "                               \"Average Purchase Price\": average_purchase_price_spender,\n",
    "                               \"Total Purchase Value\": total_purchase_value_spender})\n",
    "#Sort by Descending Order To Get Top 5 Spenders\n",
    "top_5_spenders_df = top_spenders_df.sort_values([\"Total Purchase Value\"], ascending=False).head(5)\n",
    "\n",
    "#Formatting\n",
    "top_5_spenders_df.style.format({\"Average Purchase Price\":\"${:,.2f}\",\n",
    "                               \"Total Purchase Value\":\"${:,.2f}\"})"
   ]
  },
  {
   "cell_type": "markdown",
   "metadata": {},
   "source": [
    "## Most Popular Items"
   ]
  },
  {
   "cell_type": "markdown",
   "metadata": {},
   "source": [
    "* Retrieve the Item ID, Item Name, and Item Price columns\n",
    "\n",
    "\n",
    "* Group by Item ID and Item Name. Perform calculations to obtain purchase count, average item price, and total purchase value\n",
    "\n",
    "\n",
    "* Create a summary data frame to hold the results\n",
    "\n",
    "\n",
    "* Sort the purchase count column in descending order\n",
    "\n",
    "\n",
    "* Optional: give the displayed data cleaner formatting\n",
    "\n",
    "\n",
    "* Display a preview of the summary data frame\n",
    "\n"
   ]
  },
  {
   "cell_type": "code",
   "execution_count": 9,
   "metadata": {
    "scrolled": true
   },
   "outputs": [
    {
     "data": {
      "text/html": [
       "<style  type=\"text/css\" >\n",
       "</style><table id=\"T_d8020750_9cdc_11eb_b048_001583fc5fc3\" ><thead>    <tr>        <th class=\"blank\" ></th>        <th class=\"blank level0\" ></th>        <th class=\"col_heading level0 col0\" >Purchase Count</th>        <th class=\"col_heading level0 col1\" >Item Price</th>        <th class=\"col_heading level0 col2\" >Total Purchase Value</th>    </tr>    <tr>        <th class=\"index_name level0\" >Item ID</th>        <th class=\"index_name level1\" >Item Name</th>        <th class=\"blank\" ></th>        <th class=\"blank\" ></th>        <th class=\"blank\" ></th>    </tr></thead><tbody>\n",
       "                <tr>\n",
       "                        <th id=\"T_d8020750_9cdc_11eb_b048_001583fc5fc3level0_row0\" class=\"row_heading level0 row0\" >92</th>\n",
       "                        <th id=\"T_d8020750_9cdc_11eb_b048_001583fc5fc3level1_row0\" class=\"row_heading level1 row0\" >Final Critic</th>\n",
       "                        <td id=\"T_d8020750_9cdc_11eb_b048_001583fc5fc3row0_col0\" class=\"data row0 col0\" >13</td>\n",
       "                        <td id=\"T_d8020750_9cdc_11eb_b048_001583fc5fc3row0_col1\" class=\"data row0 col1\" >$4.61</td>\n",
       "                        <td id=\"T_d8020750_9cdc_11eb_b048_001583fc5fc3row0_col2\" class=\"data row0 col2\" >$59.99</td>\n",
       "            </tr>\n",
       "            <tr>\n",
       "                        <th id=\"T_d8020750_9cdc_11eb_b048_001583fc5fc3level0_row1\" class=\"row_heading level0 row1\" >178</th>\n",
       "                        <th id=\"T_d8020750_9cdc_11eb_b048_001583fc5fc3level1_row1\" class=\"row_heading level1 row1\" >Oathbreaker, Last Hope of the Breaking Storm</th>\n",
       "                        <td id=\"T_d8020750_9cdc_11eb_b048_001583fc5fc3row1_col0\" class=\"data row1 col0\" >12</td>\n",
       "                        <td id=\"T_d8020750_9cdc_11eb_b048_001583fc5fc3row1_col1\" class=\"data row1 col1\" >$4.23</td>\n",
       "                        <td id=\"T_d8020750_9cdc_11eb_b048_001583fc5fc3row1_col2\" class=\"data row1 col2\" >$50.76</td>\n",
       "            </tr>\n",
       "            <tr>\n",
       "                        <th id=\"T_d8020750_9cdc_11eb_b048_001583fc5fc3level0_row2\" class=\"row_heading level0 row2\" >145</th>\n",
       "                        <th id=\"T_d8020750_9cdc_11eb_b048_001583fc5fc3level1_row2\" class=\"row_heading level1 row2\" >Fiery Glass Crusader</th>\n",
       "                        <td id=\"T_d8020750_9cdc_11eb_b048_001583fc5fc3row2_col0\" class=\"data row2 col0\" >9</td>\n",
       "                        <td id=\"T_d8020750_9cdc_11eb_b048_001583fc5fc3row2_col1\" class=\"data row2 col1\" >$4.58</td>\n",
       "                        <td id=\"T_d8020750_9cdc_11eb_b048_001583fc5fc3row2_col2\" class=\"data row2 col2\" >$41.22</td>\n",
       "            </tr>\n",
       "            <tr>\n",
       "                        <th id=\"T_d8020750_9cdc_11eb_b048_001583fc5fc3level0_row3\" class=\"row_heading level0 row3\" >132</th>\n",
       "                        <th id=\"T_d8020750_9cdc_11eb_b048_001583fc5fc3level1_row3\" class=\"row_heading level1 row3\" >Persuasion</th>\n",
       "                        <td id=\"T_d8020750_9cdc_11eb_b048_001583fc5fc3row3_col0\" class=\"data row3 col0\" >9</td>\n",
       "                        <td id=\"T_d8020750_9cdc_11eb_b048_001583fc5fc3row3_col1\" class=\"data row3 col1\" >$3.22</td>\n",
       "                        <td id=\"T_d8020750_9cdc_11eb_b048_001583fc5fc3row3_col2\" class=\"data row3 col2\" >$28.99</td>\n",
       "            </tr>\n",
       "            <tr>\n",
       "                        <th id=\"T_d8020750_9cdc_11eb_b048_001583fc5fc3level0_row4\" class=\"row_heading level0 row4\" >108</th>\n",
       "                        <th id=\"T_d8020750_9cdc_11eb_b048_001583fc5fc3level1_row4\" class=\"row_heading level1 row4\" >Extraction, Quickblade Of Trembling Hands</th>\n",
       "                        <td id=\"T_d8020750_9cdc_11eb_b048_001583fc5fc3row4_col0\" class=\"data row4 col0\" >9</td>\n",
       "                        <td id=\"T_d8020750_9cdc_11eb_b048_001583fc5fc3row4_col1\" class=\"data row4 col1\" >$3.53</td>\n",
       "                        <td id=\"T_d8020750_9cdc_11eb_b048_001583fc5fc3row4_col2\" class=\"data row4 col2\" >$31.77</td>\n",
       "            </tr>\n",
       "    </tbody></table>"
      ],
      "text/plain": [
       "<pandas.io.formats.style.Styler at 0x22c7230a460>"
      ]
     },
     "execution_count": 9,
     "metadata": {},
     "output_type": "execute_result"
    }
   ],
   "source": [
    "#Retrieve the Item ID, Item Name, and Price Columns \n",
    "items = purchase_data[[\"Item ID\", \"Item Name\", \"Price\"]]\n",
    "\n",
    "#Sort the items by Item ID and Item Name\n",
    "item_info = items.groupby([\"Item ID\", \"Item Name\"])\n",
    "\n",
    "#Finding Purchase Count, Average Item Price, and Total Purchase Value\n",
    "purchase_count_item = item_info[\"Price\"].count()\n",
    "total_purchase_value_item = item_info[\"Price\"].sum()\n",
    "average_price_item = total_purchase_value_item/purchase_count_item\n",
    "\n",
    "#Create Data Frame\n",
    "most_popular_items_df = pd.DataFrame({\"Purchase Count\":purchase_count_item,\n",
    "                                     \"Item Price\":average_price_item,\n",
    "                                     \"Total Purchase Value\":total_purchase_value_item})\n",
    "#Make it Descending to Give Top 5 Popular\n",
    "top_5_popular_items_df = most_popular_items_df.sort_values(\"Purchase Count\", ascending=False).head(5)\n",
    "\n",
    "#Formatting\n",
    "top_5_popular_items_df.style.format({\"Item Price\":\"${:,.2f}\",\n",
    "                                   \"Total Purchase Value\":\"${:,.2f}\"})"
   ]
  },
  {
   "cell_type": "markdown",
   "metadata": {},
   "source": [
    "## Most Profitable Items"
   ]
  },
  {
   "cell_type": "markdown",
   "metadata": {},
   "source": [
    "* Sort the above table by total purchase value in descending order\n",
    "\n",
    "\n",
    "* Optional: give the displayed data cleaner formatting\n",
    "\n",
    "\n",
    "* Display a preview of the data frame\n",
    "\n"
   ]
  },
  {
   "cell_type": "code",
   "execution_count": 10,
   "metadata": {
    "scrolled": true
   },
   "outputs": [
    {
     "data": {
      "text/html": [
       "<style  type=\"text/css\" >\n",
       "</style><table id=\"T_d84865ff_9cdc_11eb_83ee_001583fc5fc3\" ><thead>    <tr>        <th class=\"blank\" ></th>        <th class=\"blank level0\" ></th>        <th class=\"col_heading level0 col0\" >Purchase Count</th>        <th class=\"col_heading level0 col1\" >Item Price</th>        <th class=\"col_heading level0 col2\" >Total Purchase Value</th>    </tr>    <tr>        <th class=\"index_name level0\" >Item ID</th>        <th class=\"index_name level1\" >Item Name</th>        <th class=\"blank\" ></th>        <th class=\"blank\" ></th>        <th class=\"blank\" ></th>    </tr></thead><tbody>\n",
       "                <tr>\n",
       "                        <th id=\"T_d84865ff_9cdc_11eb_83ee_001583fc5fc3level0_row0\" class=\"row_heading level0 row0\" >92</th>\n",
       "                        <th id=\"T_d84865ff_9cdc_11eb_83ee_001583fc5fc3level1_row0\" class=\"row_heading level1 row0\" >Final Critic</th>\n",
       "                        <td id=\"T_d84865ff_9cdc_11eb_83ee_001583fc5fc3row0_col0\" class=\"data row0 col0\" >13</td>\n",
       "                        <td id=\"T_d84865ff_9cdc_11eb_83ee_001583fc5fc3row0_col1\" class=\"data row0 col1\" >$4.61</td>\n",
       "                        <td id=\"T_d84865ff_9cdc_11eb_83ee_001583fc5fc3row0_col2\" class=\"data row0 col2\" >$59.99</td>\n",
       "            </tr>\n",
       "            <tr>\n",
       "                        <th id=\"T_d84865ff_9cdc_11eb_83ee_001583fc5fc3level0_row1\" class=\"row_heading level0 row1\" >178</th>\n",
       "                        <th id=\"T_d84865ff_9cdc_11eb_83ee_001583fc5fc3level1_row1\" class=\"row_heading level1 row1\" >Oathbreaker, Last Hope of the Breaking Storm</th>\n",
       "                        <td id=\"T_d84865ff_9cdc_11eb_83ee_001583fc5fc3row1_col0\" class=\"data row1 col0\" >12</td>\n",
       "                        <td id=\"T_d84865ff_9cdc_11eb_83ee_001583fc5fc3row1_col1\" class=\"data row1 col1\" >$4.23</td>\n",
       "                        <td id=\"T_d84865ff_9cdc_11eb_83ee_001583fc5fc3row1_col2\" class=\"data row1 col2\" >$50.76</td>\n",
       "            </tr>\n",
       "            <tr>\n",
       "                        <th id=\"T_d84865ff_9cdc_11eb_83ee_001583fc5fc3level0_row2\" class=\"row_heading level0 row2\" >82</th>\n",
       "                        <th id=\"T_d84865ff_9cdc_11eb_83ee_001583fc5fc3level1_row2\" class=\"row_heading level1 row2\" >Nirvana</th>\n",
       "                        <td id=\"T_d84865ff_9cdc_11eb_83ee_001583fc5fc3row2_col0\" class=\"data row2 col0\" >9</td>\n",
       "                        <td id=\"T_d84865ff_9cdc_11eb_83ee_001583fc5fc3row2_col1\" class=\"data row2 col1\" >$4.90</td>\n",
       "                        <td id=\"T_d84865ff_9cdc_11eb_83ee_001583fc5fc3row2_col2\" class=\"data row2 col2\" >$44.10</td>\n",
       "            </tr>\n",
       "            <tr>\n",
       "                        <th id=\"T_d84865ff_9cdc_11eb_83ee_001583fc5fc3level0_row3\" class=\"row_heading level0 row3\" >145</th>\n",
       "                        <th id=\"T_d84865ff_9cdc_11eb_83ee_001583fc5fc3level1_row3\" class=\"row_heading level1 row3\" >Fiery Glass Crusader</th>\n",
       "                        <td id=\"T_d84865ff_9cdc_11eb_83ee_001583fc5fc3row3_col0\" class=\"data row3 col0\" >9</td>\n",
       "                        <td id=\"T_d84865ff_9cdc_11eb_83ee_001583fc5fc3row3_col1\" class=\"data row3 col1\" >$4.58</td>\n",
       "                        <td id=\"T_d84865ff_9cdc_11eb_83ee_001583fc5fc3row3_col2\" class=\"data row3 col2\" >$41.22</td>\n",
       "            </tr>\n",
       "            <tr>\n",
       "                        <th id=\"T_d84865ff_9cdc_11eb_83ee_001583fc5fc3level0_row4\" class=\"row_heading level0 row4\" >103</th>\n",
       "                        <th id=\"T_d84865ff_9cdc_11eb_83ee_001583fc5fc3level1_row4\" class=\"row_heading level1 row4\" >Singed Scalpel</th>\n",
       "                        <td id=\"T_d84865ff_9cdc_11eb_83ee_001583fc5fc3row4_col0\" class=\"data row4 col0\" >8</td>\n",
       "                        <td id=\"T_d84865ff_9cdc_11eb_83ee_001583fc5fc3row4_col1\" class=\"data row4 col1\" >$4.35</td>\n",
       "                        <td id=\"T_d84865ff_9cdc_11eb_83ee_001583fc5fc3row4_col2\" class=\"data row4 col2\" >$34.80</td>\n",
       "            </tr>\n",
       "    </tbody></table>"
      ],
      "text/plain": [
       "<pandas.io.formats.style.Styler at 0x22c722fdc40>"
      ]
     },
     "execution_count": 10,
     "metadata": {},
     "output_type": "execute_result"
    }
   ],
   "source": [
    "#You can use the data frame from previous cell and change the sorting to find Top 5 Profitable\n",
    "top_5_profitable_items_df = most_popular_items_df.sort_values([\"Total Purchase Value\"], ascending=False).head(5)\n",
    "\n",
    "#Formatting\n",
    "top_5_profitable_items_df.style.format({\"Item Price\":\"${:,.2f}\",\n",
    "                                   \"Total Purchase Value\":\"${:,.2f}\"})"
   ]
  }
 ],
 "metadata": {
  "anaconda-cloud": {},
  "kernel_info": {
   "name": "python3"
  },
  "kernelspec": {
   "display_name": "Python [conda env:PythonData] *",
   "language": "python",
   "name": "conda-env-PythonData-py"
  },
  "language_info": {
   "codemirror_mode": {
    "name": "ipython",
    "version": 3
   },
   "file_extension": ".py",
   "mimetype": "text/x-python",
   "name": "python",
   "nbconvert_exporter": "python",
   "pygments_lexer": "ipython3",
   "version": "3.8.5"
  },
  "latex_envs": {
   "LaTeX_envs_menu_present": true,
   "autoclose": false,
   "autocomplete": true,
   "bibliofile": "biblio.bib",
   "cite_by": "apalike",
   "current_citInitial": 1,
   "eqLabelWithNumbers": true,
   "eqNumInitial": 1,
   "hotkeys": {
    "equation": "Ctrl-E",
    "itemize": "Ctrl-I"
   },
   "labels_anchors": false,
   "latex_user_defs": false,
   "report_style_numbering": false,
   "user_envs_cfg": false
  },
  "nteract": {
   "version": "0.2.0"
  }
 },
 "nbformat": 4,
 "nbformat_minor": 2
}
